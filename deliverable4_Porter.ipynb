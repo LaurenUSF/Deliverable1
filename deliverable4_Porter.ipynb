{
  "nbformat": 4,
  "nbformat_minor": 0,
  "metadata": {
    "colab": {
      "provenance": [],
      "authorship_tag": "ABX9TyO89AGXrB+QvbTddiRFDWPF",
      "include_colab_link": true
    },
    "kernelspec": {
      "name": "python3",
      "display_name": "Python 3"
    },
    "language_info": {
      "name": "python"
    }
  },
  "cells": [
    {
      "cell_type": "markdown",
      "metadata": {
        "id": "view-in-github",
        "colab_type": "text"
      },
      "source": [
        "<a href=\"https://colab.research.google.com/github/LaurenUSF/ISM4300/blob/main/deliverable4_Porter.ipynb\" target=\"_parent\"><img src=\"https://colab.research.google.com/assets/colab-badge.svg\" alt=\"Open In Colab\"/></a>"
      ]
    },
    {
      "cell_type": "code",
      "execution_count": 17,
      "metadata": {
        "id": "B8W2w18d2LRA"
      },
      "outputs": [],
      "source": [
        "import random\n"
      ]
    },
    {
      "cell_type": "code",
      "source": [
        "def random_array(array_len):\n",
        "    MyArray = []\n",
        "    for i in range(array_len):\n",
        "        MyArray.append(random.randint(10, 50))\n",
        "    return MyArray\n",
        "\n",
        "def sum(array):\n",
        "    sum = 0\n",
        "    for i in array:\n",
        "        sum = sum + i\n",
        "    return sum"
      ],
      "metadata": {
        "id": "jZCrtWgG2NLs"
      },
      "execution_count": 20,
      "outputs": []
    },
    {
      "cell_type": "code",
      "source": [
        "n = int(input(\"enter an intager between 5 and 15: \"))\n",
        "MyArray=random_array(n)\n",
        "if n >= 5 and n <= 15:\n",
        "    print(\"The elements in the random array are: \", end=\"\")\n",
        "    for i in MyArray:\n",
        "        print(i, end=\" \")\n",
        "    print()\n",
        "    print(\"The sum is :\", sum(MyArray))\n",
        "else:\n",
        "    print(\"Integer entered must be between 5 and 15\")"
      ],
      "metadata": {
        "colab": {
          "base_uri": "https://localhost:8080/"
        },
        "id": "P_lR1gJz2RIQ",
        "outputId": "e7cede56-35be-4492-bd0e-b3c8c26c0691"
      },
      "execution_count": 34,
      "outputs": [
        {
          "output_type": "stream",
          "name": "stdout",
          "text": [
            "enter an intager between 5 and 15: 5\n",
            "The elements in the random array are: 41 34 14 46 17 \n",
            "The sum is : 152\n"
          ]
        }
      ]
    }
  ]
}